{
  "nbformat": 4,
  "nbformat_minor": 0,
  "metadata": {
    "colab": {
      "provenance": []
    },
    "kernelspec": {
      "name": "python3",
      "display_name": "Python 3"
    },
    "language_info": {
      "name": "python"
    }
  },
  "cells": [
    {
      "cell_type": "markdown",
      "source": [
        "# Format String\n",
        " **Use the format() method to insert numbers into strings:**"
      ],
      "metadata": {
        "id": "AEgAQ8cvwcQM"
      }
    },
    {
      "cell_type": "code",
      "execution_count": 1,
      "metadata": {
        "colab": {
          "base_uri": "https://localhost:8080/"
        },
        "id": "GTZNJ-tluYXF",
        "outputId": "828c3893-422f-49ef-9d7f-c7a1bf9066d9"
      },
      "outputs": [
        {
          "output_type": "stream",
          "name": "stdout",
          "text": [
            "My name is John, and I am 36\n"
          ]
        }
      ],
      "source": [
        "age = 36\n",
        "txt = \"My name is John, and I am {}\"\n",
        "print(txt.format(age))"
      ]
    },
    {
      "cell_type": "markdown",
      "source": [
        "**The format() method takes unlimited number of arguments, and are placed into the respective placeholders:**"
      ],
      "metadata": {
        "id": "ZY4SLKtvw51H"
      }
    },
    {
      "cell_type": "code",
      "source": [
        "quantity = 3\n",
        "itemName = \"Apple\"\n",
        "price = 49.95\n",
        "myorder = \"I want {} pieces of {} for {} dollars.\"\n",
        "print(myorder.format(quantity, itemName, price))"
      ],
      "metadata": {
        "colab": {
          "base_uri": "https://localhost:8080/"
        },
        "id": "9HqcyEvSwwvB",
        "outputId": "07db7ad6-c346-41b5-8d03-0ef562db5dbb"
      },
      "execution_count": 4,
      "outputs": [
        {
          "output_type": "stream",
          "name": "stdout",
          "text": [
            "I want 3 pieces of Apple for 49.95 dollars.\n"
          ]
        }
      ]
    },
    {
      "cell_type": "markdown",
      "source": [
        "**The escape character allows you to use double quotes when you normally would not be allowed:**"
      ],
      "metadata": {
        "id": "78F8ul4JxUae"
      }
    },
    {
      "cell_type": "code",
      "source": [
        "txt = \"We are the so-called \\\"Vikings\\\" from the north.\"\n",
        "print(txt)"
      ],
      "metadata": {
        "colab": {
          "base_uri": "https://localhost:8080/"
        },
        "id": "fjzCbpsZw3Nh",
        "outputId": "96052df5-fe42-4bd6-b8c7-f0d61fe953ec"
      },
      "execution_count": 5,
      "outputs": [
        {
          "output_type": "stream",
          "name": "stdout",
          "text": [
            "We are the so-called \"Vikings\" from the north.\n"
          ]
        }
      ]
    },
    {
      "cell_type": "markdown",
      "source": [
        "# **Python List**"
      ],
      "metadata": {
        "id": "SgJEP6KJyn5X"
      }
    },
    {
      "cell_type": "code",
      "source": [
        "thislist = [\"apple\", \"banana\", \"cherry\"]\n",
        "print(thislist[-1])"
      ],
      "metadata": {
        "colab": {
          "base_uri": "https://localhost:8080/"
        },
        "id": "u9PyK2-NxdY6",
        "outputId": "c89e2aa6-bf00-48f9-dd7b-b105c757c6a4"
      },
      "execution_count": 6,
      "outputs": [
        {
          "output_type": "stream",
          "name": "stdout",
          "text": [
            "cherry\n"
          ]
        }
      ]
    },
    {
      "cell_type": "code",
      "source": [
        "thislist = [\"apple\", \"banana\", \"cherry\", \"orange\", \"kiwi\", \"melon\", \"mango\"]\n",
        "print(thislist[:4])"
      ],
      "metadata": {
        "colab": {
          "base_uri": "https://localhost:8080/"
        },
        "id": "fDx8WRMtytI-",
        "outputId": "6400a4d9-ab0e-45b5-f5e4-86082addefbd"
      },
      "execution_count": 7,
      "outputs": [
        {
          "output_type": "stream",
          "name": "stdout",
          "text": [
            "['apple', 'banana', 'cherry', 'orange']\n"
          ]
        }
      ]
    },
    {
      "cell_type": "code",
      "source": [
        "thislist = [\"apple\", \"banana\", \"cherry\"]\n",
        "if \"apple\" in thislist:\n",
        "  print(\"Yes, 'apple' is in the fruits list\")\n"
      ],
      "metadata": {
        "id": "_B-Abd4Myxhc"
      },
      "execution_count": null,
      "outputs": []
    },
    {
      "cell_type": "code",
      "source": [
        "name= [\"aaa\", 'bbbbbb', 'cccccccc', 'ddddddd']\n",
        "if 'cccccccc' in name:\n",
        "  print(\"Yes, 'cccccccc' is in the name list\")"
      ],
      "metadata": {
        "colab": {
          "base_uri": "https://localhost:8080/"
        },
        "id": "hDY8DuAvy83J",
        "outputId": "3c094d31-67d5-450c-b214-e193bf372b2e"
      },
      "execution_count": 10,
      "outputs": [
        {
          "output_type": "stream",
          "name": "stdout",
          "text": [
            "Yes, 'cccccccc' is in the name list\n"
          ]
        }
      ]
    },
    {
      "cell_type": "markdown",
      "source": [
        "**Insert \"watermelon\" as the third item:**"
      ],
      "metadata": {
        "id": "XlT0kDYcz0Bi"
      }
    },
    {
      "cell_type": "code",
      "source": [
        "thislist = [\"apple\", \"banana\", \"cherry\"]\n",
        "\n",
        "thislist.insert(2, \"watermelon\")\n",
        "\n",
        "print(thislist) "
      ],
      "metadata": {
        "colab": {
          "base_uri": "https://localhost:8080/"
        },
        "id": "5wLNkyN8zVo2",
        "outputId": "656c68d8-31b9-4e82-dc17-7b5e08360026"
      },
      "execution_count": 11,
      "outputs": [
        {
          "output_type": "stream",
          "name": "stdout",
          "text": [
            "['apple', 'banana', 'watermelon', 'cherry']\n"
          ]
        }
      ]
    },
    {
      "cell_type": "markdown",
      "source": [
        "**Insert Items\n",
        "\n",
        "To insert a list item at a specified index, use the insert() method.\n",
        "\n",
        "The insert() method inserts an item at the specified index:**"
      ],
      "metadata": {
        "id": "3Qii0sMC0APa"
      }
    },
    {
      "cell_type": "code",
      "source": [
        "thislist = [\"apple\", \"banana\", \"cherry\"]\n",
        "thislist.insert(1, \"orange\")\n",
        "print(thislist)"
      ],
      "metadata": {
        "colab": {
          "base_uri": "https://localhost:8080/"
        },
        "id": "IhZZepmpzxEi",
        "outputId": "64588249-cdd5-4a71-b46a-745dcdeacdc2"
      },
      "execution_count": 12,
      "outputs": [
        {
          "output_type": "stream",
          "name": "stdout",
          "text": [
            "['apple', 'orange', 'banana', 'cherry']\n"
          ]
        }
      ]
    },
    {
      "cell_type": "markdown",
      "source": [
        "**The remove() method removes the specified item.**\n",
        "\n",
        "**The pop() method removes the specified index.**"
      ],
      "metadata": {
        "id": "qMwFkXOD0hSv"
      }
    },
    {
      "cell_type": "code",
      "source": [
        "#Remove \"banana\":\n",
        "thislist = [\"apple\", \"banana\", \"cherry\"]\n",
        "thislist.remove(\"banana\")\n",
        "print(thislist)\n",
        "#Remove the second item:\n",
        "thislist = [\"apple\", \"banana\",'kola', \"cherry\"]\n",
        "thislist.pop(1)\n",
        "print(thislist)"
      ],
      "metadata": {
        "colab": {
          "base_uri": "https://localhost:8080/"
        },
        "id": "pnRAFdg70FLI",
        "outputId": "013cef62-9421-4310-ff8a-7f3f0640c61f"
      },
      "execution_count": 13,
      "outputs": [
        {
          "output_type": "stream",
          "name": "stdout",
          "text": [
            "['apple', 'cherry']\n",
            "['apple', 'kola', 'cherry']\n"
          ]
        }
      ]
    },
    {
      "cell_type": "markdown",
      "source": [
        "**Print all items by referring to their index number:**"
      ],
      "metadata": {
        "id": "1uiO3Az41Z_l"
      }
    },
    {
      "cell_type": "code",
      "source": [
        "name = ['llll', 'dddd', 'llllp', 'ljvdkgfj']\n",
        "for i in name:\n",
        "  print(name) \n",
        "  #haha wrong things that i am not expected."
      ],
      "metadata": {
        "colab": {
          "base_uri": "https://localhost:8080/"
        },
        "id": "yh8b1H-c1hB3",
        "outputId": "eec0938a-5c91-42f2-d919-0d20c2697187"
      },
      "execution_count": 14,
      "outputs": [
        {
          "output_type": "stream",
          "name": "stdout",
          "text": [
            "['llll', 'dddd', 'llllp', 'ljvdkgfj']\n",
            "['llll', 'dddd', 'llllp', 'ljvdkgfj']\n",
            "['llll', 'dddd', 'llllp', 'ljvdkgfj']\n",
            "['llll', 'dddd', 'llllp', 'ljvdkgfj']\n"
          ]
        }
      ]
    },
    {
      "cell_type": "code",
      "source": [
        "name = ['llll', 'dddd', 'llllp', 'ljvdkgfj']\n",
        "for i in name:\n",
        "  print(i) \n"
      ],
      "metadata": {
        "colab": {
          "base_uri": "https://localhost:8080/"
        },
        "id": "wjzVriGU10bl",
        "outputId": "cc744a6b-6945-4eed-8dd4-cf1e76bfa90d"
      },
      "execution_count": 15,
      "outputs": [
        {
          "output_type": "stream",
          "name": "stdout",
          "text": [
            "llll\n",
            "dddd\n",
            "llllp\n",
            "ljvdkgfj\n"
          ]
        }
      ]
    },
    {
      "cell_type": "markdown",
      "source": [
        "**Based on a list of fruits, you want a new list, containing only the fruits with the letter \"a\" in the name.\n",
        "\n",
        "Without list comprehension you will have to write a for statement with a conditional test inside:**"
      ],
      "metadata": {
        "id": "UsgWFX6o2cof"
      }
    },
    {
      "cell_type": "code",
      "source": [
        "fol = ['kola','apel','jaam','aam','lichu']\n",
        "notunlist =[]\n",
        "\n",
        "for x in fol:\n",
        "  if 'a' in x:\n",
        "    notunlist.append(x)\n",
        "print(notunlist)"
      ],
      "metadata": {
        "colab": {
          "base_uri": "https://localhost:8080/"
        },
        "id": "2ttEAEqB2g70",
        "outputId": "2253b16b-1a84-49d3-ae53-ee9a4caa5d6f"
      },
      "execution_count": 16,
      "outputs": [
        {
          "output_type": "stream",
          "name": "stdout",
          "text": [
            "['kola', 'apel', 'jaam', 'aam']\n"
          ]
        }
      ]
    },
    {
      "cell_type": "markdown",
      "source": [
        "**Sort List**"
      ],
      "metadata": {
        "id": "bfyjB41E3S4g"
      }
    },
    {
      "cell_type": "code",
      "source": [
        "#Reverse the order of the list items:\n",
        "thislist = [\"banana\", \"Orange\", \"Kiwi\", \"cherry\"]\n",
        "thislist.reverse()\n",
        "print(thislist)"
      ],
      "metadata": {
        "colab": {
          "base_uri": "https://localhost:8080/"
        },
        "id": "CKPnxy-L3Wj9",
        "outputId": "84647a46-cd9f-4eb7-f03d-efd8232e9a6e"
      },
      "execution_count": 17,
      "outputs": [
        {
          "output_type": "stream",
          "name": "stdout",
          "text": [
            "['cherry', 'Kiwi', 'Orange', 'banana']\n"
          ]
        }
      ]
    },
    {
      "cell_type": "markdown",
      "source": [
        "*** Sort the list numerically:***"
      ],
      "metadata": {
        "id": "BxmiyDyH3tZB"
      }
    },
    {
      "cell_type": "code",
      "source": [
        "thislist = [100, 50, 65, 82, 23]\n",
        "thislist.sort()\n",
        "print(thislist)\n",
        "#Sort the list descending:\n",
        "thislist = [100, 50, 65, 82, 23]\n",
        "thislist.sort(reverse = True)\n",
        "print(thislist)"
      ],
      "metadata": {
        "colab": {
          "base_uri": "https://localhost:8080/"
        },
        "id": "0_vvsTld3Y0M",
        "outputId": "f0ca7efa-1ec4-4080-c1eb-14076d062843"
      },
      "execution_count": 18,
      "outputs": [
        {
          "output_type": "stream",
          "name": "stdout",
          "text": [
            "[23, 50, 65, 82, 100]\n",
            "[100, 82, 65, 50, 23]\n"
          ]
        }
      ]
    },
    {
      "cell_type": "markdown",
      "source": [
        "**Make a copy of a list with the copy() method:**"
      ],
      "metadata": {
        "id": "01xCk-AM3-PN"
      }
    },
    {
      "cell_type": "code",
      "source": [
        "thislist = [\"apple\", \"banana\", \"cherry\"]\n",
        "mylist = thislist.copy()\n",
        "print(mylist)"
      ],
      "metadata": {
        "colab": {
          "base_uri": "https://localhost:8080/"
        },
        "id": "eUx2UJ783zdL",
        "outputId": "bc37a827-d148-461b-9f8a-29e6b5765a04"
      },
      "execution_count": 19,
      "outputs": [
        {
          "output_type": "stream",
          "name": "stdout",
          "text": [
            "['apple', 'banana', 'cherry']\n"
          ]
        }
      ]
    },
    {
      "cell_type": "markdown",
      "source": [
        "**Append list2 into list1:**"
      ],
      "metadata": {
        "id": "l9nuZCNy4QbR"
      }
    },
    {
      "cell_type": "code",
      "source": [
        "list1 = [\"a\", \"b\" , \"c\"]\n",
        "list2 = [1, 2, 3]\n",
        "\n",
        "for x in list2:\n",
        "  list1.append(x)\n",
        "\n",
        "print(list1)\n"
      ],
      "metadata": {
        "colab": {
          "base_uri": "https://localhost:8080/"
        },
        "id": "xHJT01WI4EeH",
        "outputId": "795962f9-d71b-476f-ce66-900b126821b5"
      },
      "execution_count": 20,
      "outputs": [
        {
          "output_type": "stream",
          "name": "stdout",
          "text": [
            "['a', 'b', 'c', 1, 2, 3]\n"
          ]
        }
      ]
    },
    {
      "cell_type": "code",
      "source": [],
      "metadata": {
        "id": "pEuuxDmv4VdH"
      },
      "execution_count": null,
      "outputs": []
    }
  ]
}