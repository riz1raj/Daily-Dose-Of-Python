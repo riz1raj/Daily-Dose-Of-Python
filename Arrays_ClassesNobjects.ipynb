{
  "nbformat": 4,
  "nbformat_minor": 0,
  "metadata": {
    "colab": {
      "provenance": []
    },
    "kernelspec": {
      "name": "python3",
      "display_name": "Python 3"
    },
    "language_info": {
      "name": "python"
    }
  },
  "cells": [
    {
      "cell_type": "code",
      "execution_count": 1,
      "metadata": {
        "colab": {
          "base_uri": "https://localhost:8080/"
        },
        "id": "l10KKRkcVWQ7",
        "outputId": "b8322746-b351-42f0-ead0-dc241a682478"
      },
      "outputs": [
        {
          "output_type": "stream",
          "name": "stdout",
          "text": [
            "['Rolls Royace', 'Volvo', 'BMW']\n",
            "3\n"
          ]
        }
      ],
      "source": [
        "# Create an array containing car names:\n",
        "cars = [\"Ford\", \"Volvo\", \"BMW\"] \n",
        "\n",
        "# Get the value of the first array item:\n",
        "x = cars[0] \n",
        "\n",
        "# Modify the value of the first array item:\n",
        "cars[0] = \"Rolls Royace\"\n",
        "\n",
        "# Return the number of elements in the cars array:\n",
        "y = len(cars) \n",
        "\n",
        "print(cars)\n",
        "print(y)\n",
        "\n"
      ]
    },
    {
      "cell_type": "code",
      "source": [
        "# Print each item in the cars array:\n",
        "for x in cars:\n",
        "  print(x) "
      ],
      "metadata": {
        "colab": {
          "base_uri": "https://localhost:8080/"
        },
        "id": "swaHWW4uWH5D",
        "outputId": "46f330df-94bd-48d9-998a-b68c63b78449"
      },
      "execution_count": 2,
      "outputs": [
        {
          "output_type": "stream",
          "name": "stdout",
          "text": [
            "Rolls Royace\n",
            "Volvo\n",
            "BMW\n"
          ]
        }
      ]
    },
    {
      "cell_type": "code",
      "source": [
        "# Add one more element to the cars array:\n",
        "cars.append(\"Honda\") \n",
        "\n",
        "#Delete the second element of the cars array:\n",
        "cars.pop(1) \n",
        "\n",
        "# Delete the element that has the value \"Volvo\":\n",
        "cars = [\"Ford\", \"Volvo\", \"BMW\"]\n",
        "\n",
        "cars.remove(\"Volvo\")\n",
        "\n",
        "print(cars)\n",
        "\n"
      ],
      "metadata": {
        "colab": {
          "base_uri": "https://localhost:8080/"
        },
        "id": "FlGOrBSdWMBT",
        "outputId": "18cefa65-a69b-439a-a3df-9e9a1b9b877e"
      },
      "execution_count": 3,
      "outputs": [
        {
          "output_type": "stream",
          "name": "stdout",
          "text": [
            "['Ford', 'BMW']\n"
          ]
        }
      ]
    },
    {
      "cell_type": "markdown",
      "source": [
        "# **Classes and Objects**"
      ],
      "metadata": {
        "id": "wRr5TWLyXbzL"
      }
    },
    {
      "cell_type": "code",
      "source": [
        "# Create a class named MyClass, with a property named x:\n",
        "class MyClass:\n",
        "  x = [\"pop\",5,'opp']\n",
        "# Create an object named p1, and print the value of x:\n",
        "p1 = MyClass()\n",
        "print(p1.x) "
      ],
      "metadata": {
        "colab": {
          "base_uri": "https://localhost:8080/"
        },
        "id": "FU2p_EmEWu0T",
        "outputId": "caf0da82-f0e2-4fd1-ee37-39131c20b1b5"
      },
      "execution_count": 4,
      "outputs": [
        {
          "output_type": "stream",
          "name": "stdout",
          "text": [
            "['pop', 5, 'opp']\n"
          ]
        }
      ]
    },
    {
      "cell_type": "code",
      "source": [
        "# Create a class named Person, use the __init__() function to assign values for name and age:\n",
        "class bkashUser:\n",
        "  def __init__(b,uid,balance):\n",
        "    b.uid=uid\n",
        "    b.bal= balance\n",
        "U1001= bkashUser(\"U21\",25010)\n",
        "print(U1001.uid)\n",
        "print(U1001.bal)"
      ],
      "metadata": {
        "colab": {
          "base_uri": "https://localhost:8080/"
        },
        "id": "9fSYZA6tYz62",
        "outputId": "0be508d4-93f8-468f-a18b-09728dc1405b"
      },
      "execution_count": 5,
      "outputs": [
        {
          "output_type": "stream",
          "name": "stdout",
          "text": [
            "U21\n",
            "25010\n"
          ]
        }
      ]
    },
    {
      "cell_type": "code",
      "source": [
        "# The string representation of an object WITH the __str__() function:\n",
        "class Person:\n",
        "  def __init__(self, name, age):\n",
        "    self.name = name\n",
        "    self.age = age\n",
        "\n",
        "  def __str__(self):\n",
        "    return f\"{self.name}({self.age})\"    \n",
        "\n",
        "p1 = Person(\"John\", 36)\n",
        "\n",
        "print(p1)\n"
      ],
      "metadata": {
        "colab": {
          "base_uri": "https://localhost:8080/"
        },
        "id": "z200TZz2Zpu4",
        "outputId": "ca7eb43d-39bb-4798-ecfe-d83c1f454fc2"
      },
      "execution_count": 6,
      "outputs": [
        {
          "output_type": "stream",
          "name": "stdout",
          "text": [
            "John(36)\n"
          ]
        }
      ]
    },
    {
      "cell_type": "code",
      "source": [
        "# Use the words mysillyobject and abc instead of self:\n",
        "class Person:\n",
        "  def __init__(mysillyobject, name, age):\n",
        "    mysillyobject.name = name\n",
        "    mysillyobject.age = age\n",
        "\n",
        "  def myfunc(abc):\n",
        "    print(\"Hello my name is \" + abc.name)\n",
        "\n",
        "p1 = Person(\"John\", 36)\n",
        "p1.myfunc()\n"
      ],
      "metadata": {
        "colab": {
          "base_uri": "https://localhost:8080/"
        },
        "id": "fXrl4WZoaRgL",
        "outputId": "970274da-23a0-4288-8e9f-0a10bcc6f24e"
      },
      "execution_count": 7,
      "outputs": [
        {
          "output_type": "stream",
          "name": "stdout",
          "text": [
            "Hello my name is John\n"
          ]
        }
      ]
    },
    {
      "cell_type": "code",
      "source": [
        "# Set the age of p1 to 40:\n",
        "class Person:\n",
        "  def __init__(self, name, age):\n",
        "    self.name = name\n",
        "    self.age = age\n",
        "\n",
        "  def myfunc(self):\n",
        "    print(\"Hello my name is \" + self.name)\n",
        "\n",
        "p1 = Person(\"John\", 36)\n",
        "\n",
        "p1.age = 40\n",
        "\n",
        "print(p1.age)\n"
      ],
      "metadata": {
        "colab": {
          "base_uri": "https://localhost:8080/"
        },
        "id": "A3aQhLQ-cBVp",
        "outputId": "3f4ab9ea-c3f4-42b4-d999-38f6f8223ac8"
      },
      "execution_count": 8,
      "outputs": [
        {
          "output_type": "stream",
          "name": "stdout",
          "text": [
            "40\n"
          ]
        }
      ]
    },
    {
      "cell_type": "code",
      "source": [
        "class Person:\n",
        "  def __init__(self, name, age):\n",
        "    self.name = name\n",
        "    self.age = age\n",
        "\n",
        "  def myfunc(self):\n",
        "    print(\"Hello my name is \" + self.name)\n",
        "\n",
        "p1 = Person(\"John\", 36)\n",
        "\n",
        "del p1\n",
        "\n",
        "# print(p1)\n"
      ],
      "metadata": {
        "id": "nxd8K0LRcJm1"
      },
      "execution_count": 12,
      "outputs": []
    }
  ]
}