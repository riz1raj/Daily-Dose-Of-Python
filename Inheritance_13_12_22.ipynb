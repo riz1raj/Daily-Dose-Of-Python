{
  "nbformat": 4,
  "nbformat_minor": 0,
  "metadata": {
    "colab": {
      "provenance": []
    },
    "kernelspec": {
      "name": "python3",
      "display_name": "Python 3"
    },
    "language_info": {
      "name": "python"
    }
  },
  "cells": [
    {
      "cell_type": "code",
      "source": [
        "# Create a class named Person, with firstname and lastname properties, and a printname method:\n",
        "class person:\n",
        "  def __init__(student, uni, dept):\n",
        "    student.uni= uni\n",
        "    student.dept= dept\n",
        "\n",
        "  def printstudent(student):\n",
        "    print(\"University is: \"+student.uni,\"\\nDepartment is: \"+student.dept)\n",
        "#Use the Person class to create an object, and then execute the printname method:\n",
        "A= person(\"AIUB\",\"CSE\")\n",
        "A.printstudent()\n"
      ],
      "metadata": {
        "colab": {
          "base_uri": "https://localhost:8080/"
        },
        "id": "dNnGBjDBzxXn",
        "outputId": "a11d2b70-aa90-4227-efe7-d9a5b1ec8670"
      },
      "execution_count": 9,
      "outputs": [
        {
          "output_type": "stream",
          "name": "stdout",
          "text": [
            "University is: AIUB \n",
            "Department is: CSE\n"
          ]
        }
      ]
    },
    {
      "cell_type": "code",
      "source": [
        "# To keep the inheritance of the parent's __init__() function, add a call to the parent's __init__() function:\n",
        "class Person:\n",
        "  def __init__(self, fname, lname):\n",
        "    self.firstname = fname\n",
        "    self.lastname = lname\n",
        "\n",
        "  def printname(self):\n",
        "    print(self.firstname, self.lastname)\n",
        "\n",
        "class Student(Person):\n",
        "  def __init__(self, fname, lname):\n",
        "    Person.__init__(self, fname, lname)\n",
        "\n",
        "x = Student(\"Mike\", \"Olsen\")\n",
        "x.printname()\n"
      ],
      "metadata": {
        "colab": {
          "base_uri": "https://localhost:8080/"
        },
        "id": "op0nHNEF1F8P",
        "outputId": "ae83395e-07e3-46ba-9cda-e13337d6b29d"
      },
      "execution_count": 10,
      "outputs": [
        {
          "output_type": "stream",
          "name": "stdout",
          "text": [
            "Mike Olsen\n"
          ]
        }
      ]
    },
    {
      "cell_type": "code",
      "source": [
        "# Python also has a super() function that will make the child class inherit all the methods and properties from its parent:\n",
        "class Person:\n",
        "  def __init__(self, fname, lname):\n",
        "    self.firstname = fname\n",
        "    self.lastname = lname\n",
        "\n",
        "  def printname(self):\n",
        "    print(self.firstname, self.lastname)\n",
        "\n",
        "class Student(Person):\n",
        "  def __init__(amar, iccha, moto):\n",
        "    super().__init__(iccha, moto)\n",
        "\n",
        "x = Student(\"Mike\", \"Olsen\")\n",
        "x.printname()"
      ],
      "metadata": {
        "colab": {
          "base_uri": "https://localhost:8080/"
        },
        "id": "GkBV2tWf2IOB",
        "outputId": "96b690d5-0c43-4ceb-9707-461eb87a9701"
      },
      "execution_count": 19,
      "outputs": [
        {
          "output_type": "stream",
          "name": "stdout",
          "text": [
            "Mike Olsen\n"
          ]
        }
      ]
    },
    {
      "cell_type": "code",
      "source": [
        "# Add a year parameter, and pass the correct year when creating objects:\n",
        "\n",
        "class Person:\n",
        "  def __init__(self, fname, lname):\n",
        "    self.firstname = fname\n",
        "    self.lastname = lname\n",
        "\n",
        "  def printname(self):\n",
        "    print(self.firstname, self.lastname)\n",
        "\n",
        "class Student(Person):\n",
        "  def __init__(self, fname, lname):\n",
        "    super().__init__(fname, lname)\n",
        "    self.graduationyear = 2019\n",
        "\n",
        "x = Student(\"Mike\", \"Olsen\")\n",
        "print(x.firstname)\n",
        "print(x.graduationyear)\n"
      ],
      "metadata": {
        "colab": {
          "base_uri": "https://localhost:8080/"
        },
        "id": "_YaMIozu2f5I",
        "outputId": "57bad350-92d6-4f04-a501-55f99f734bc1"
      },
      "execution_count": 25,
      "outputs": [
        {
          "output_type": "stream",
          "name": "stdout",
          "text": [
            "Mike\n",
            "2019\n"
          ]
        }
      ]
    }
  ]
}